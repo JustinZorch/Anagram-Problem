{
 "cells": [
  {
   "cell_type": "markdown",
   "id": "56cb60e0",
   "metadata": {},
   "source": [
    "## ANAGRAM PROBLEM"
   ]
  },
  {
   "cell_type": "markdown",
   "id": "05ccd810",
   "metadata": {},
   "source": [
    "There used to be a word game in the newspaper in South Africa called \"Anagram\" each weekend. \n",
    "You were given 7 jumbled letters and had to figure out the 7 letter English word that was jumbled.\n",
    "\n",
    "For example given:\n",
    "ULYFQAI\n",
    "The 7 letter word is:\n",
    "QUALIFY\n",
    "\n",
    "\n",
    "For example given:\n",
    "SWBEIET\n",
    "The 7 letter word is:\n",
    "WEBSITE\n",
    "\n",
    "Now solve these Anagrams:\n",
    "RNOSVEI\n",
    "RUIMOFN\n",
    "ISCLINO\n",
    "GUNEENI\n"
   ]
  },
  {
   "cell_type": "markdown",
   "id": "485a267c",
   "metadata": {},
   "source": [
    "## Thought Process\n",
    "\n",
    "    1. N Method\n",
    "            1.Compare Anagram to every word\n",
    "            2. if word length == anagram and same letters take word O(N) nested loop but O(7) so still O(n)\n",
    "            3. give possbile options\n",
    "            4. Think time complexity is O(n), nested loop only length of word so linear still\n",
    "      \n",
    "    2. log N\n",
    "            1. build a Trie and search it\n",
    "            2. ez pz right???\n",
    "    3. O(1) build a hash table O(n), then search it O(1), thought about this in the shower lol\n",
    "    "
   ]
  },
  {
   "cell_type": "markdown",
   "id": "7ad0334f",
   "metadata": {},
   "source": [
    "## What to figure out/learn\n",
    "\n",
    "    1. Read Text to array\n",
    "    2. check all data is okay? no numbers etc\n",
    "    3. Clean Data\n",
    "    4. Building a Trie from scratch?\n",
    "    5. searching a Trie"
   ]
  },
  {
   "cell_type": "markdown",
   "id": "9830f2b1",
   "metadata": {},
   "source": [
    "## Text Functions"
   ]
  },
  {
   "cell_type": "code",
   "execution_count": 57,
   "id": "8ac5fc1a",
   "metadata": {},
   "outputs": [
    {
     "data": {
      "text/plain": [
       "_io.TextIOWrapper"
      ]
     },
     "execution_count": 57,
     "metadata": {},
     "output_type": "execute_result"
    }
   ],
   "source": [
    "words = open(\"dictionary.txt\", \"r\")\n",
    "type(words)"
   ]
  },
  {
   "cell_type": "code",
   "execution_count": 53,
   "id": "24de1118",
   "metadata": {},
   "outputs": [
    {
     "name": "stdout",
     "output_type": "stream",
     "text": [
      "a\n"
     ]
    }
   ],
   "source": [
    "print(words.read(1))"
   ]
  },
  {
   "cell_type": "code",
   "execution_count": 54,
   "id": "378c52dc",
   "metadata": {
    "scrolled": true
   },
   "outputs": [
    {
     "name": "stdout",
     "output_type": "stream",
     "text": [
      "\n"
     ]
    }
   ],
   "source": [
    "print(words.readline(0))"
   ]
  },
  {
   "cell_type": "code",
   "execution_count": 55,
   "id": "7dadd2f7",
   "metadata": {},
   "outputs": [],
   "source": [
    "test = ['RNOSVEI','RUIMOFN','ISCLINO','GUNEENI']"
   ]
  },
  {
   "cell_type": "code",
   "execution_count": 5,
   "id": "8b573ee5",
   "metadata": {},
   "outputs": [
    {
     "data": {
      "text/plain": [
       "'EINORSV'"
      ]
     },
     "execution_count": 5,
     "metadata": {},
     "output_type": "execute_result"
    }
   ],
   "source": [
    "word = 'RNOSVEI'\n",
    "\"\".join(sorted(word))"
   ]
  },
  {
   "cell_type": "code",
   "execution_count": 60,
   "id": "a22af049",
   "metadata": {},
   "outputs": [],
   "source": [
    "words_7 = []\n",
    "for x in words:\n",
    "    if len(x) == 8:\n",
    "        words_7.append(x.upper())"
   ]
  },
  {
   "cell_type": "code",
   "execution_count": null,
   "id": "b67a83de",
   "metadata": {},
   "outputs": [],
   "source": [
    "#display dict\n",
    "for k, v in test1.items():\n",
    "    print(k, v)\n",
    "\n",
    "#print number of \n",
    "print(len(test1.keys()))\n",
    "\n",
    "#returns all keys\n",
    "test1.keys()"
   ]
  },
  {
   "cell_type": "markdown",
   "id": "c6b2378e",
   "metadata": {},
   "source": [
    "## No:3 Hash Table attempt \n",
    "\n",
    "    Creating Hash Table O(N) time complecity reading through entire text file\n",
    "    O(N) space complexity\n",
    "    Searching O(1) time complexity"
   ]
  },
  {
   "cell_type": "code",
   "execution_count": 47,
   "id": "cbecc0e9",
   "metadata": {},
   "outputs": [],
   "source": [
    "def word_hash():\n",
    "    \n",
    "    \"\"\"\"Create a hash table of the 7 letter words with the key as the \n",
    "    sorted(alphabetically) word and the value the word or words \"\"\"\n",
    "    \n",
    "    sorted_dict = {}\n",
    "    words = open(\"dictionary.txt\", \"r\")\n",
    "    for x in words:\n",
    "        \n",
    "        #Only interested in 7 letter wrods\n",
    "        if len(x) == 8:\n",
    "            \n",
    "            #Git rid of the n\\ function at the end of each word in text file\n",
    "            x = x[0:7]\n",
    "            #sort the word to create its key\n",
    "            x_sort = \"\".join(sorted(x))\n",
    "\n",
    "            #create a new key(the sorted word) and value(the word)\n",
    "            #if key already there append to the list value\n",
    "            if x_sort not in sorted_dict:\n",
    "                sorted_dict[x_sort] = [x]\n",
    "            else:\n",
    "                sorted_dict[x_sort].append(x)\n",
    "    \n",
    "    return sorted_dict\n",
    "    \n",
    "    "
   ]
  },
  {
   "cell_type": "code",
   "execution_count": 53,
   "id": "d6bff917",
   "metadata": {},
   "outputs": [],
   "source": [
    "test = ['RNOSVEI','RUIMOFN','ISCLINO','GUNEENI']"
   ]
  },
  {
   "cell_type": "code",
   "execution_count": 48,
   "id": "ce741c1d",
   "metadata": {},
   "outputs": [],
   "source": [
    "test1 = word_hash()"
   ]
  },
  {
   "cell_type": "code",
   "execution_count": 58,
   "id": "1738defe",
   "metadata": {},
   "outputs": [
    {
     "name": "stdout",
     "output_type": "stream",
     "text": [
      "RNOSVEI anagrams are : ['revison', 'version']\n",
      "RUIMOFN anagrams are : ['uniform']\n",
      "ISCLINO anagrams are : ['silicon']\n",
      "GUNEENI anagrams are : ['genuine', 'ingenue']\n"
     ]
    }
   ],
   "source": [
    "for word in test:\n",
    "    ana_list = test1[\"\".join(sorted(word.lower()))]\n",
    "    print(f\"{word} anagrams are : {ana_list}\")"
   ]
  },
  {
   "cell_type": "code",
   "execution_count": null,
   "id": "8c4e3f15",
   "metadata": {},
   "outputs": [],
   "source": []
  },
  {
   "cell_type": "code",
   "execution_count": null,
   "id": "5b02357e",
   "metadata": {},
   "outputs": [],
   "source": []
  }
 ],
 "metadata": {
  "kernelspec": {
   "display_name": "Python 3",
   "language": "python",
   "name": "python3"
  },
  "language_info": {
   "codemirror_mode": {
    "name": "ipython",
    "version": 3
   },
   "file_extension": ".py",
   "mimetype": "text/x-python",
   "name": "python",
   "nbconvert_exporter": "python",
   "pygments_lexer": "ipython3",
   "version": "3.8.8"
  }
 },
 "nbformat": 4,
 "nbformat_minor": 5
}
